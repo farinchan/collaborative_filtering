{
 "cells": [
  {
   "cell_type": "markdown",
   "id": "cb02cd4f-c443-4f5b-a661-1735445dd1c5",
   "metadata": {},
   "source": [
    "1. Content base Filtering\n",
    "   Berdasarkan karakteristik dari data(content) / tidak ada interksi dari usernya\n",
    "   \n",
    "    algorithms are given user preferences for items and recommend similar items based on a domain-specific notion of item content. This approach also extends naturally to cases where item metadata is available (e.g., movie stars, book authors, and music genres).\n",
    "\n",
    "   A recommender system has to decide between two methods for information delivery when providing the user with recommendations:\n",
    "- \n",
    "Exploitation. The system chooses documents similar to those for which the user has already expressed a preference- .\n",
    "Exploration. The system chooses documents where the user profile does not provide evidence to predict the user’s reacti\n",
    "\n",
    "References : https://fritz.ai/recommender-systems-with-python/on."
   ]
  },
  {
   "cell_type": "code",
   "execution_count": 12,
   "id": "5e79a8f9",
   "metadata": {},
   "outputs": [],
   "source": [
    "data = [\n",
    "    {\n",
    "        \"product_id\": 1,\n",
    "        \"product_name\": \"samsung galaxy s21\",\n",
    "        \"tags\": \"HP, samsung, handphone\"\n",
    "    },\n",
    "    {\n",
    "        \"product_id\": 2,\n",
    "        \"product_name\": \"iphone 12\",\n",
    "        \"tags\": \"HP, apple, handphone\"\n",
    "    },\n",
    "    {\n",
    "        \"product_id\": 3,\n",
    "        \"product_name\": \"google pixel 6\",\n",
    "        \"tags\": \"HP, google, handphone\"\n",
    "    },\n",
    "    {\n",
    "        \"product_id\": 4,\n",
    "        \"product_name\": \"xiaomi mi 11\",\n",
    "        \"tags\": \"HP, xiaomi, handphone\"\n",
    "    },\n",
    "    {\n",
    "        \"product_id\": 5,\n",
    "        \"product_name\": \"oneplus 9\",\n",
    "        \"tags\": \"HP, oneplus, handphone\"\n",
    "    },\n",
    "    {\n",
    "        \"product_id\": 6,\n",
    "        \"product_name\": \"Laptop Lenovo Ideapad 3\",\n",
    "        \"tags\": \"laptop, lenovo, ideapad\"\n",
    "    },\n",
    "    {\n",
    "        \"product_id\": 7,\n",
    "        \"product_name\": \"HP Spectre x360\",\n",
    "        \"tags\": \"laptop, HP, spectre\"\n",
    "    },\n",
    "    {\n",
    "        \"product_id\": 8,\n",
    "        \"product_name\": \"mesin cuci samsung 8kg\",\n",
    "        \"tags\": \"mesin cuci, samsung, 8kg\"\n",
    "    },\n",
    "    {\n",
    "        \"product_id\": 9,\n",
    "        \"product_name\": \"mesin cuci LG 10kg\",\n",
    "        \"tags\": \"mesin cuci, LG, 10kg\"\n",
    "    },\n",
    "]"
   ]
  },
  {
   "cell_type": "markdown",
   "id": "dcfbd032",
   "metadata": {},
   "source": [
    "## Membaca dan Memahami Dataset dari data yang diberikan"
   ]
  },
  {
   "cell_type": "code",
   "execution_count": 13,
   "id": "b98d7f8e-bd2f-4a29-8137-53f436fea161",
   "metadata": {},
   "outputs": [
    {
     "name": "stdout",
     "output_type": "stream",
     "text": [
      "  product_id        product_name                    tags\n",
      "0          1  samsung galaxy s21  HP, samsung, handphone\n",
      "1          2           iphone 12    HP, apple, handphone\n",
      "2          3      google pixel 6   HP, google, handphone\n",
      "3          4        xiaomi mi 11   HP, xiaomi, handphone\n",
      "4          5           oneplus 9  HP, oneplus, handphone\n"
     ]
    }
   ],
   "source": [
    "import pandas as pd\n",
    "\n",
    "\n",
    "df = pd.DataFrame(data)\n",
    "print(df.head())"
   ]
  },
  {
   "cell_type": "markdown",
   "id": "93153e60",
   "metadata": {},
   "source": [
    "## Preprocessing Data\n",
    "Lakukan preprocessing data genre kita sebelum bisa menggunakannya untuk rekomendasi."
   ]
  },
  {
   "cell_type": "code",
   "execution_count": 14,
   "id": "fa9eec75",
   "metadata": {},
   "outputs": [
    {
     "name": "stdout",
     "output_type": "stream",
     "text": [
      "0    HP samsung handphone\n",
      "1      HP apple handphone\n",
      "2     HP google handphone\n",
      "3     HP xiaomi handphone\n",
      "4    HP oneplus handphone\n",
      "Name: tags, dtype: object\n"
     ]
    }
   ],
   "source": [
    "# Menghapus nilai NaN dari kolom 'tags'\n",
    "df['tags'] = df['tags'].fillna('')\n",
    "\n",
    "# Menyusun data tags sebagai kombinasi string\n",
    "df['tags'] = df['tags'].apply(lambda x: ' '.join(x.split(', ')))\n",
    "\n",
    "print(df['tags'].head())"
   ]
  },
  {
   "cell_type": "markdown",
   "id": "6c9b9312",
   "metadata": {},
   "source": [
    "## Ekstraksi Fitur\n",
    "Kita akan menggunakan CountVectorizer untuk mengubah genre film menjadi fitur vektor.\n"
   ]
  },
  {
   "cell_type": "code",
   "execution_count": 15,
   "id": "4dc4226b",
   "metadata": {},
   "outputs": [
    {
     "name": "stdout",
     "output_type": "stream",
     "text": [
      "(9, 16)\n"
     ]
    }
   ],
   "source": [
    "from sklearn.feature_extraction.text import CountVectorizer\n",
    "\n",
    "# Membuat vektor dari tags\n",
    "count = CountVectorizer()\n",
    "count_matrix = count.fit_transform(df['tags'])\n",
    "\n",
    "print(count_matrix.shape)"
   ]
  },
  {
   "cell_type": "markdown",
   "id": "47b0d43b",
   "metadata": {},
   "source": [
    "## Menghitung Similaritas\n",
    "Kita akan menggunakan cosine similarity untuk menghitung kemiripan antara film berdasarkan genre."
   ]
  },
  {
   "cell_type": "code",
   "execution_count": 28,
   "id": "79be2fec",
   "metadata": {},
   "outputs": [
    {
     "data": {
      "text/plain": [
       "array([[1.        , 0.66666667, 0.66666667, 0.66666667, 0.66666667,\n",
       "        0.        , 0.33333333, 0.28867513, 0.        ],\n",
       "       [0.66666667, 1.        , 0.66666667, 0.66666667, 0.66666667,\n",
       "        0.        , 0.33333333, 0.        , 0.        ],\n",
       "       [0.66666667, 0.66666667, 1.        , 0.66666667, 0.66666667,\n",
       "        0.        , 0.33333333, 0.        , 0.        ],\n",
       "       [0.66666667, 0.66666667, 0.66666667, 1.        , 0.66666667,\n",
       "        0.        , 0.33333333, 0.        , 0.        ],\n",
       "       [0.66666667, 0.66666667, 0.66666667, 0.66666667, 1.        ,\n",
       "        0.        , 0.33333333, 0.        , 0.        ],\n",
       "       [0.        , 0.        , 0.        , 0.        , 0.        ,\n",
       "        1.        , 0.33333333, 0.        , 0.        ],\n",
       "       [0.33333333, 0.33333333, 0.33333333, 0.33333333, 0.33333333,\n",
       "        0.33333333, 1.        , 0.        , 0.        ],\n",
       "       [0.28867513, 0.        , 0.        , 0.        , 0.        ,\n",
       "        0.        , 0.        , 1.        , 0.5       ],\n",
       "       [0.        , 0.        , 0.        , 0.        , 0.        ,\n",
       "        0.        , 0.        , 0.5       , 1.        ]])"
      ]
     },
     "execution_count": 28,
     "metadata": {},
     "output_type": "execute_result"
    }
   ],
   "source": [
    "from sklearn.metrics.pairwise import cosine_similarity\n",
    "\n",
    "# Menghitung cosine similarity matrix\n",
    "cosine_sim = cosine_similarity(count_matrix, count_matrix)\n",
    "cosine_sim"
   ]
  },
  {
   "cell_type": "markdown",
   "id": "e4de10b0",
   "metadata": {},
   "source": [
    "## Membuat Fungsi Rekomendasi\n",
    "Selanjutnya, kita akan membuat fungsi untuk merekomendasikan film berdasarkan genre yang diberikan."
   ]
  },
  {
   "cell_type": "code",
   "execution_count": 26,
   "id": "86172557",
   "metadata": {},
   "outputs": [
    {
     "name": "stdout",
     "output_type": "stream",
     "text": [
      "  product_id             product_name                    tags\n",
      "1          2                iphone 12      HP apple handphone\n",
      "2          3           google pixel 6     HP google handphone\n",
      "3          4             xiaomi mi 11     HP xiaomi handphone\n",
      "4          5                oneplus 9    HP oneplus handphone\n",
      "6          7          HP Spectre x360       laptop HP spectre\n",
      "7          8   mesin cuci samsung 8kg  mesin cuci samsung 8kg\n",
      "5          6  Laptop Lenovo Ideapad 3   laptop lenovo ideapad\n",
      "8          9       mesin cuci LG 10kg      mesin cuci LG 10kg\n"
     ]
    }
   ],
   "source": [
    "# Membuat mapping dari product_id ke indeks\n",
    "indices = pd.Series(df.index, index=df['product_id']).drop_duplicates()\n",
    "\n",
    "def get_recommendations(product_id, cosine_sim=cosine_sim):\n",
    "    # Mendapatkan indeks produk yang diberikan\n",
    "    idx = indices[product_id]\n",
    "\n",
    "    # Mendapatkan skor similarity dari semua produk dengan produk yang diberikan\n",
    "    sim_scores = list(enumerate(cosine_sim[idx]))\n",
    "\n",
    "    # Mengurutkan produk berdasarkan skor similarity\n",
    "    sim_scores = sorted(sim_scores, key=lambda x: x[1], reverse=True)\n",
    "\n",
    "    # Mendapatkan skor dari 10 produk yang paling mirip\n",
    "    sim_scores = sim_scores[1:11]\n",
    "\n",
    "    # Mendapatkan indeks produk\n",
    "    product_indices = [i[0] for i in sim_scores]\n",
    "\n",
    "    # Mengembalikan 10 produk yang paling mirip\n",
    "    return df.iloc[product_indices]\n",
    "\n",
    "# Contoh penggunaan\n",
    "recommendations = get_recommendations('1')\n",
    "print(recommendations[['product_id', 'product_name', 'tags']])"
   ]
  },
  {
   "cell_type": "markdown",
   "id": "bd2205dc",
   "metadata": {},
   "source": [
    "## Menguji Sistem Rekomendasi\n",
    "Coba beberapa film untuk melihat apakah sistem rekomendasi bekerja dengan baik."
   ]
  },
  {
   "cell_type": "code",
   "execution_count": 27,
   "id": "f38860b1",
   "metadata": {},
   "outputs": [
    {
     "name": "stdout",
     "output_type": "stream",
     "text": [
      "  product_id             product_name                    tags\n",
      "1          2                iphone 12      HP apple handphone\n",
      "2          3           google pixel 6     HP google handphone\n",
      "3          4             xiaomi mi 11     HP xiaomi handphone\n",
      "4          5                oneplus 9    HP oneplus handphone\n",
      "6          7          HP Spectre x360       laptop HP spectre\n",
      "7          8   mesin cuci samsung 8kg  mesin cuci samsung 8kg\n",
      "5          6  Laptop Lenovo Ideapad 3   laptop lenovo ideapad\n",
      "8          9       mesin cuci LG 10kg      mesin cuci LG 10kg\n",
      "  product_id             product_name                   tags\n",
      "8          9       mesin cuci LG 10kg     mesin cuci LG 10kg\n",
      "0          1       samsung galaxy s21   HP samsung handphone\n",
      "1          2                iphone 12     HP apple handphone\n",
      "2          3           google pixel 6    HP google handphone\n",
      "3          4             xiaomi mi 11    HP xiaomi handphone\n",
      "4          5                oneplus 9   HP oneplus handphone\n",
      "5          6  Laptop Lenovo Ideapad 3  laptop lenovo ideapad\n",
      "6          7          HP Spectre x360      laptop HP spectre\n"
     ]
    }
   ],
   "source": [
    "print(get_recommendations('1')[['product_id', 'product_name', 'tags']])\n",
    "print(get_recommendations('8')[['product_id', 'product_name', 'tags']])"
   ]
  },
  {
   "cell_type": "markdown",
   "id": "609a9c76",
   "metadata": {},
   "source": []
  }
 ],
 "metadata": {
  "kernelspec": {
   "display_name": "Python 3 (ipykernel)",
   "language": "python",
   "name": "python3"
  },
  "language_info": {
   "codemirror_mode": {
    "name": "ipython",
    "version": 3
   },
   "file_extension": ".py",
   "mimetype": "text/x-python",
   "name": "python",
   "nbconvert_exporter": "python",
   "pygments_lexer": "ipython3",
   "version": "3.10.0"
  }
 },
 "nbformat": 4,
 "nbformat_minor": 5
}
