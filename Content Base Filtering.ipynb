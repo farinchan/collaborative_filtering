{
 "cells": [
  {
   "cell_type": "markdown",
   "id": "cb02cd4f-c443-4f5b-a661-1735445dd1c5",
   "metadata": {},
   "source": [
    "1. Content base Filtering\n",
    "   Berdasarkan karakteristik dari data(content) / tidak ada interksi dari usernya\n",
    "   \n",
    "    algorithms are given user preferences for items and recommend similar items based on a domain-specific notion of item content. This approach also extends naturally to cases where item metadata is available (e.g., movie stars, book authors, and music genres).\n",
    "\n",
    "   A recommender system has to decide between two methods for information delivery when providing the user with recommendations:\r\n",
    "- \r\n",
    "Exploitation. The system chooses documents similar to those for which the user has already expressed a preference- .\r\n",
    "Exploration. The system chooses documents where the user profile does not provide evidence to predict the user’s reacti\n",
    "\n",
    "References : https://fritz.ai/recommender-systems-with-python/on."
   ]
  },
  {
   "cell_type": "code",
   "execution_count": null,
   "id": "b98d7f8e-bd2f-4a29-8137-53f436fea161",
   "metadata": {},
   "outputs": [],
   "source": []
  }
 ],
 "metadata": {
  "kernelspec": {
   "display_name": "Python 3 (ipykernel)",
   "language": "python",
   "name": "python3"
  },
  "language_info": {
   "codemirror_mode": {
    "name": "ipython",
    "version": 3
   },
   "file_extension": ".py",
   "mimetype": "text/x-python",
   "name": "python",
   "nbconvert_exporter": "python",
   "pygments_lexer": "ipython3",
   "version": "3.10.0"
  }
 },
 "nbformat": 4,
 "nbformat_minor": 5
}
