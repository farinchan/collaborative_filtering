{
 "cells": [
  {
   "cell_type": "markdown",
   "id": "5b65cb80-5a42-4894-8804-1b38498e0bfb",
   "metadata": {},
   "source": [
    "# item based Collaborative Filtering"
   ]
  },
  {
   "cell_type": "code",
   "execution_count": 1,
   "id": "c7daa06b-e8f3-495e-b703-18172290628f",
   "metadata": {},
   "outputs": [],
   "source": [
    "#contoh data\n",
    "data = [\n",
    "    {\"user_id\": 1, \"item_id\": 1, \"rating\": 4},\n",
    "    {\"user_id\": 1, \"item_id\": 2, \"rating\": 5},\n",
    "    {\"user_id\": 2, \"item_id\": 1, \"rating\": 4},\n",
    "    {\"user_id\": 2, \"item_id\": 2, \"rating\": 3},\n",
    "    {\"user_id\": 2, \"item_id\": 4, \"rating\": 5},\n",
    "    {\"user_id\": 3, \"item_id\": 1, \"rating\": 5},\n",
    "    {\"user_id\": 3, \"item_id\": 3, \"rating\": 2},\n",
    "    {\"user_id\": 3, \"item_id\": 4, \"rating\": 3},\n",
    "    {\"user_id\": 4, \"item_id\": 2, \"rating\": 5},\n",
    "    {\"user_id\": 4, \"item_id\": 3, \"rating\": 4},\n",
    "    {\"user_id\": 4, \"item_id\": 4, \"rating\": 4}\n",
    "]"
   ]
  },
  {
   "cell_type": "markdown",
   "id": "8b673ddd-c4e3-4230-8e24-24810d78a2f7",
   "metadata": {},
   "source": [
    "## Langkah 1: mengambil data\n",
    "Pertama, kita akan mengambil data darai variabel data dan mengonversinya menjadi pandas DataFrame."
   ]
  },
  {
   "cell_type": "code",
   "execution_count": 2,
   "id": "d1772859-7034-484e-8f6e-6dea3c929a20",
   "metadata": {},
   "outputs": [],
   "source": [
    "import pandas as pd"
   ]
  },
  {
   "cell_type": "code",
   "execution_count": 3,
   "id": "499bce22-1886-4c27-809b-a7165e99fb5a",
   "metadata": {},
   "outputs": [
    {
     "name": "stdout",
     "output_type": "stream",
     "text": [
      "    user_id  item_id  rating\n",
      "0         1        1       4\n",
      "1         1        2       5\n",
      "2         2        1       4\n",
      "3         2        2       3\n",
      "4         2        4       5\n",
      "5         3        1       5\n",
      "6         3        3       2\n",
      "7         3        4       3\n",
      "8         4        2       5\n",
      "9         4        3       4\n",
      "10        4        4       4\n"
     ]
    }
   ],
   "source": [
    "df = pd.DataFrame(data)\n",
    "print(df)"
   ]
  },
  {
   "cell_type": "markdown",
   "id": "06256112-ef49-4620-9c2c-ed08fcaae23a",
   "metadata": {},
   "source": [
    "## Langkah 2: Membuat Matriks Utility\n",
    "Kita mengubah data kita menjadi matriks utility yang berisi rating pengguna pada setiap item"
   ]
  },
  {
   "cell_type": "code",
   "execution_count": 4,
   "id": "2aca6863-c20e-4998-b442-1582c8bfcff3",
   "metadata": {},
   "outputs": [
    {
     "name": "stdout",
     "output_type": "stream",
     "text": [
      "item_id    1    2    3    4\n",
      "user_id                    \n",
      "1        4.0  5.0  0.0  0.0\n",
      "2        4.0  3.0  0.0  5.0\n",
      "3        5.0  0.0  2.0  3.0\n",
      "4        0.0  5.0  4.0  4.0\n"
     ]
    }
   ],
   "source": [
    "# Membuat matriks pivot untuk rating\n",
    "utility_matrix = df.pivot_table(values='rating', index='user_id', columns='item_id', fill_value=0)\n",
    "print(utility_matrix)"
   ]
  },
  {
   "attachments": {
    "1d5439ba-b39d-44bd-8b6f-b05e27b91858.png": {
     "image/png": "[encoded data removed]"
    }
   },
   "cell_type": "markdown",
   "id": "f3461916-2e94-41d6-99f8-31e9e8ba3b8b",
   "metadata": {},
   "source": [
    "## Langkah 3: Menghitung Similarity Antar Item\n",
    "Menggunakan cosine similarity untuk menghitung kesamaan antar item.\n",
    "**dengan rumus :**\n",
    "![cos_similarity.png](attachment:1d5439ba-b39d-44bd-8b6f-b05e27b91858.png)\n"
   ]
  },
  {
   "cell_type": "code",
   "execution_count": 5,
   "id": "6ad4deb3-7172-4070-a736-694a2612542a",
   "metadata": {},
   "outputs": [
    {
     "name": "stdout",
     "output_type": "stream",
     "text": [
      "item_id         1         2         3         4\n",
      "item_id                                        \n",
      "1        1.000000  0.551806  0.296174  0.655610\n",
      "2        0.551806  1.000000  0.582223  0.644402\n",
      "3        0.296174  0.582223  1.000000  0.695701\n",
      "4        0.655610  0.644402  0.695701  1.000000\n"
     ]
    }
   ],
   "source": [
    "from sklearn.metrics.pairwise import cosine_similarity\n",
    "\n",
    "# Menghitung cosine similarity antar item\n",
    "item_similarity = cosine_similarity(utility_matrix.T)\n",
    "item_similarity_df = pd.DataFrame(item_similarity, index=utility_matrix.columns, columns=utility_matrix.columns)\n",
    "print(item_similarity_df)"
   ]
  },
  {
   "cell_type": "markdown",
   "id": "2950d7b7-6b82-475f-8477-1979107cfd0d",
   "metadata": {},
   "source": [
    "## Langkah 4: Membuat Fungsi Rekomendasi\n",
    "Membuat fungsi untuk memberikan rekomendasi item berdasarkan item yang sudah diberi rating oleh pengguna."
   ]
  },
  {
   "cell_type": "code",
   "execution_count": 11,
   "id": "60248745-fc74-41c2-83ce-1033a8019eea",
   "metadata": {},
   "outputs": [
    {
     "name": "stdout",
     "output_type": "stream",
     "text": [
      "Item ID: 4, Score: 5.844451435072875\n",
      "Item ID: 3, Score: 4.095810304216094\n"
     ]
    }
   ],
   "source": [
    "def get_item_recommendations(user_id, utility_matrix, item_similarity_df, num_recommendations=2):\n",
    "    user_ratings = utility_matrix.loc[user_id]\n",
    "    rated_items = user_ratings[user_ratings > 0].index.tolist()\n",
    "    \n",
    "    scores = {}\n",
    "    for item in rated_items:\n",
    "        similar_items = item_similarity_df[item].sort_values(ascending=False).index.tolist()\n",
    "        for similar_item in similar_items:\n",
    "            if similar_item not in rated_items:\n",
    "                if similar_item not in scores:\n",
    "                    scores[similar_item] = item_similarity_df[item][similar_item] * user_ratings[item]\n",
    "                else:\n",
    "                    scores[similar_item] += item_similarity_df[item][similar_item] * user_ratings[item]\n",
    "\n",
    "    sorted_scores = sorted(scores.items(), key=lambda x: x[1], reverse=True)\n",
    "    recommendations = sorted_scores[:num_recommendations]\n",
    "    return recommendations\n",
    "\n",
    "# Contoh mendapatkan rekomendasi untuk user_id=1\n",
    "recommendations = get_item_recommendations(1, utility_matrix, item_similarity_df)\n",
    "# print(recommendations)\n",
    "for item, score in recommendations:\n",
    "    print(f\"Item ID: {item}, Score: {score}\")\n"
   ]
  },
  {
   "cell_type": "markdown",
   "id": "2468121e-6a86-4c4b-b5ec-5be8ebc4b5f2",
   "metadata": {},
   "source": [
    "## Penjelasan Detail\n",
    "- Membaca Data dari JSON: Menggunakan modul json untuk membaca data dari file JSON dan mengonversinya menjadi pandas DataFrame.\n",
    "- Membuat Matriks Utility: Kami menggunakan pivot_table untuk mengubah data menjadi matriks utility yang berisi rating pengguna pada setiap item. Setiap baris mewakili pengguna, dan setiap kolom mewakili item.\n",
    "- Menghitung Similarity Antar Item: Kami menggunakan cosine_similarity dari sklearn untuk menghitung kesamaan antar item berdasarkan rating pengguna. Hasilnya adalah matriks similarity dimana nilai-nilai menunjukkan seberapa mirip dua item.\n",
    "- Fungsi Rekomendasi: Fungsi ini bekerja dengan mengambil item yang sudah diberi rating oleh pengguna, kemudian melihat item-item yang mirip dengan item tersebut berdasarkan matriks similarity. Skor dihitung dengan mengalikan nilai kesamaan item dengan rating yang diberikan pengguna. Item dengan skor tertinggi diberikan sebagai rekomendasi.\n",
    "\n",
    "Dengan pendekatan ini, kita dapat memberikan rekomendasi item yang mirip dengan item yang sudah disukai oleh pengguna berdasarkan pola rating pengguna lainnya.\n",
    "\n",
    "\n"
   ]
  },
  {
   "cell_type": "code",
   "execution_count": null,
   "id": "95ac7353-5c50-46a9-8fb9-1fccc230f518",
   "metadata": {},
   "outputs": [],
   "source": []
  }
 ],
 "metadata": {
  "kernelspec": {
   "display_name": "Python 3 (ipykernel)",
   "language": "python",
   "name": "python3"
  },
  "language_info": {
   "codemirror_mode": {
    "name": "ipython",
    "version": 3
   },
   "file_extension": ".py",
   "mimetype": "text/x-python",
   "name": "python",
   "nbconvert_exporter": "python",
   "pygments_lexer": "ipython3",
   "version": "3.10.0"
  }
 },
 "nbformat": 4,
 "nbformat_minor": 5
}
